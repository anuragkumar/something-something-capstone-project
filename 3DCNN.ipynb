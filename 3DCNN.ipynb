{
 "cells": [
  {
   "cell_type": "code",
   "execution_count": 1,
   "metadata": {},
   "outputs": [
    {
     "name": "stderr",
     "output_type": "stream",
     "text": [
      "Using TensorFlow backend.\n"
     ]
    }
   ],
   "source": [
    "import os\n",
    "os.environ[\"CUDA_DEVICE_ORDER\"] = \"PCI_BUS_ID\"   #if like me you do not have a lot of memory in your GPU\n",
    "os.environ[\"CUDA_VISIBLE_DEVICES\"] = \"\" #then these two lines force keras to use your CPU\n",
    "import keras\n",
    "from keras.models import Sequential\n",
    "from keras.layers import Dense, Flatten, Conv3D, MaxPooling3D, Dropout, BatchNormalization\n",
    "from keras.utils import to_categorical\n",
    "import numpy as np\n",
    "import matplotlib.pyplot as plt\n",
    "import h5py\n",
    "import glob\n",
    "import numpy as np\n",
    "import os\n",
    "import shutil\n",
    "np.random.seed(42)\n",
    "import cv2\n",
    "import tensorflow as tf"
   ]
  },
  {
   "cell_type": "code",
   "execution_count": 2,
   "metadata": {},
   "outputs": [],
   "source": [
    "# reshaping the dimensions from 2D to 3D should follow the rule:\n",
    "# n x m x d = n x m x p x d\n",
    "# i.e., their product should be same"
   ]
  },
  {
   "cell_type": "code",
   "execution_count": 3,
   "metadata": {},
   "outputs": [],
   "source": [
    "train_dir = 'D:\\\\something-something-project\\\\train-images\\\\'\n",
    "validation_dir = 'D:\\\\something-something-project\\\\validation-images\\\\'"
   ]
  },
  {
   "cell_type": "code",
   "execution_count": 4,
   "metadata": {},
   "outputs": [
    {
     "name": "stdout",
     "output_type": "stream",
     "text": [
      "['Dropping_something', 'Holding_something', 'Moving_something', 'Picking_something', 'Poking_something', 'Pouring_something', 'Putting_something', 'Showing_something', 'Tearing_something']\n",
      "['Dropping_something', 'Holding_something', 'Moving_something', 'Picking_something', 'Poking_something', 'Pouring_something', 'Putting_something', 'Showing_something', 'Tearing_something']\n"
     ]
    }
   ],
   "source": [
    "# listing images directory for train and validation\n",
    "train_files = os.listdir(train_dir)\n",
    "print (train_files)\n",
    "\n",
    "validation_files = os.listdir(validation_dir)\n",
    "print (validation_files)"
   ]
  },
  {
   "cell_type": "code",
   "execution_count": 5,
   "metadata": {},
   "outputs": [
    {
     "name": "stdout",
     "output_type": "stream",
     "text": [
      "['D:\\\\something-something-project\\\\train-images\\\\Dropping_something', 'D:\\\\something-something-project\\\\train-images\\\\Holding_something', 'D:\\\\something-something-project\\\\train-images\\\\Moving_something', 'D:\\\\something-something-project\\\\train-images\\\\Picking_something', 'D:\\\\something-something-project\\\\train-images\\\\Poking_something', 'D:\\\\something-something-project\\\\train-images\\\\Pouring_something', 'D:\\\\something-something-project\\\\train-images\\\\Putting_something', 'D:\\\\something-something-project\\\\train-images\\\\Showing_something', 'D:\\\\something-something-project\\\\train-images\\\\Tearing_something']\n",
      "['D:\\\\something-something-project\\\\validation-images\\\\Dropping_something', 'D:\\\\something-something-project\\\\validation-images\\\\Holding_something', 'D:\\\\something-something-project\\\\validation-images\\\\Moving_something', 'D:\\\\something-something-project\\\\validation-images\\\\Picking_something', 'D:\\\\something-something-project\\\\validation-images\\\\Poking_something', 'D:\\\\something-something-project\\\\validation-images\\\\Pouring_something', 'D:\\\\something-something-project\\\\validation-images\\\\Putting_something', 'D:\\\\something-something-project\\\\validation-images\\\\Showing_something', 'D:\\\\something-something-project\\\\validation-images\\\\Tearing_something']\n"
     ]
    }
   ],
   "source": [
    "# generating the full system path\n",
    "train_files_dir = []\n",
    "validation_files_dir = []\n",
    "\n",
    "for f in train_files:\n",
    "    if os.path.join(train_dir, f):\n",
    "        train_files_dir.append(os.path.join(train_dir, f))\n",
    "        \n",
    "for f in validation_files:\n",
    "    if os.path.join(validation_dir, f):\n",
    "        validation_files_dir.append(os.path.join(validation_dir, f))\n",
    "        \n",
    "print (train_files_dir)\n",
    "print (validation_files_dir)"
   ]
  },
  {
   "cell_type": "code",
   "execution_count": 6,
   "metadata": {},
   "outputs": [
    {
     "name": "stdout",
     "output_type": "stream",
     "text": [
      "Training Data\n",
      "D:\\something-something-project\\train-images\\Dropping_something 15941\n",
      "D:\\something-something-project\\train-images\\Holding_something 25433\n",
      "D:\\something-something-project\\train-images\\Moving_something 56940\n",
      "D:\\something-something-project\\train-images\\Picking_something 3841\n",
      "D:\\something-something-project\\train-images\\Poking_something 14179\n",
      "D:\\something-something-project\\train-images\\Pouring_something 7280\n",
      "D:\\something-something-project\\train-images\\Putting_something 64208\n",
      "D:\\something-something-project\\train-images\\Showing_something 15682\n",
      "D:\\something-something-project\\train-images\\Tearing_something 11816\n"
     ]
    }
   ],
   "source": [
    "# printing number of images in each directories\n",
    "print (\"Training Data\")\n",
    "for d in train_files_dir:\n",
    "    print (d, len(os.listdir(d)))"
   ]
  },
  {
   "cell_type": "code",
   "execution_count": 7,
   "metadata": {},
   "outputs": [
    {
     "name": "stdout",
     "output_type": "stream",
     "text": [
      "Validation Data\n",
      "D:\\something-something-project\\validation-images\\Dropping_something 3108\n",
      "D:\\something-something-project\\validation-images\\Holding_something 4148\n",
      "D:\\something-something-project\\validation-images\\Moving_something 7463\n",
      "D:\\something-something-project\\validation-images\\Picking_something 774\n",
      "D:\\something-something-project\\validation-images\\Poking_something 1618\n",
      "D:\\something-something-project\\validation-images\\Pouring_something 2023\n",
      "D:\\something-something-project\\validation-images\\Putting_something 7867\n",
      "D:\\something-something-project\\validation-images\\Showing_something 2627\n",
      "D:\\something-something-project\\validation-images\\Tearing_something 3851\n"
     ]
    }
   ],
   "source": [
    "# printing number of images in each directories\n",
    "print (\"Validation Data\")\n",
    "for d in validation_files_dir:\n",
    "    print (d, len(os.listdir(d)))"
   ]
  },
  {
   "cell_type": "code",
   "execution_count": 8,
   "metadata": {},
   "outputs": [
    {
     "name": "stdout",
     "output_type": "stream",
     "text": [
      "Directory:  D:\\something-something-project\\train-images\\Dropping_something\n",
      "Directory:  D:\\something-something-project\\train-images\\Holding_something\n",
      "Directory:  D:\\something-something-project\\train-images\\Moving_something\n",
      "Directory:  D:\\something-something-project\\train-images\\Picking_something\n",
      "Directory:  D:\\something-something-project\\train-images\\Poking_something\n",
      "Directory:  D:\\something-something-project\\train-images\\Pouring_something\n",
      "Directory:  D:\\something-something-project\\train-images\\Putting_something\n",
      "Directory:  D:\\something-something-project\\train-images\\Showing_something\n",
      "Directory:  D:\\something-something-project\\train-images\\Tearing_something\n"
     ]
    }
   ],
   "source": [
    "# loading training data\n",
    "train_data = []\n",
    "train_labels = []\n",
    "for d in train_files_dir:\n",
    "    print ('Directory: ', d)\n",
    "    # commenting out so that one can read all the images, I have less RAM\n",
    "    count = 0\n",
    "    files = glob.glob(d + \"/*.jpg\")\n",
    "    imgs = []\n",
    "    for img in files:\n",
    "        # print (img)\n",
    "        if count == 1000:\n",
    "            break\n",
    "        if not os.path.isfile(img):\n",
    "            continue\n",
    "        image = cv2.imread(img)\n",
    "        imgs.append(cv2.resize(image, (224,224)))\n",
    "        train_labels.append(d.split(\"D:\\\\something-something-project\\\\train-images\\\\\")[1])\n",
    "        count += 1\n",
    "    train_data = train_data + imgs"
   ]
  },
  {
   "cell_type": "code",
   "execution_count": 9,
   "metadata": {},
   "outputs": [
    {
     "name": "stdout",
     "output_type": "stream",
     "text": [
      "Directory:  D:\\something-something-project\\validation-images\\Dropping_something\n",
      "Directory:  D:\\something-something-project\\validation-images\\Holding_something\n",
      "Directory:  D:\\something-something-project\\validation-images\\Moving_something\n",
      "Directory:  D:\\something-something-project\\validation-images\\Picking_something\n",
      "Directory:  D:\\something-something-project\\validation-images\\Poking_something\n",
      "Directory:  D:\\something-something-project\\validation-images\\Pouring_something\n",
      "Directory:  D:\\something-something-project\\validation-images\\Putting_something\n",
      "Directory:  D:\\something-something-project\\validation-images\\Showing_something\n",
      "Directory:  D:\\something-something-project\\validation-images\\Tearing_something\n"
     ]
    }
   ],
   "source": [
    "# loading validation data\n",
    "validation_data = []\n",
    "validation_labels = []\n",
    "for d in validation_files_dir:\n",
    "    print ('Directory: ', d)\n",
    "    count = 0\n",
    "    files = glob.glob(d + \"/*.jpg\")\n",
    "    imgs = []\n",
    "    for img in files:\n",
    "        if count == 1000:\n",
    "            break\n",
    "        if not os.path.isfile(img):\n",
    "            continue\n",
    "        image = cv2.imread(img)\n",
    "        imgs.append(cv2.resize(image, (224,224)))\n",
    "        validation_labels.append(d.split(\"D:\\\\something-something-project\\\\validation-images\\\\\")[1])\n",
    "        count += 1\n",
    "    validation_data = validation_data + imgs"
   ]
  },
  {
   "cell_type": "code",
   "execution_count": 10,
   "metadata": {},
   "outputs": [
    {
     "name": "stdout",
     "output_type": "stream",
     "text": [
      "Train Data:  9000 \tTrain Labels:  9000\n",
      "Validation Data:  8774 \tValidation Labels:  8774\n"
     ]
    }
   ],
   "source": [
    "print (\"Train Data: \", len(train_data), \"\\tTrain Labels: \", len(train_labels))\n",
    "print (\"Validation Data: \", len(validation_data), \"\\tValidation Labels: \", len(validation_labels))"
   ]
  },
  {
   "cell_type": "code",
   "execution_count": 11,
   "metadata": {},
   "outputs": [],
   "source": [
    "def array_to_color(array, cmap=\"Oranges\"):\n",
    "    s_m = plt.cm.ScalarMappable(cmap=cmap)\n",
    "    return s_m.to_rgba(array)[:,:-1]\n",
    "\n",
    "\n",
    "def rgb_data_transform(data):\n",
    "    data_t = []\n",
    "    for i in range(data.shape[0]):\n",
    "        # print(data[i].shape)\n",
    "        data_t.append(data[i].reshape(32, 32, 49, 3))\n",
    "    return np.asarray(data_t, dtype=np.float32)"
   ]
  },
  {
   "cell_type": "code",
   "execution_count": 12,
   "metadata": {},
   "outputs": [],
   "source": [
    "x_train = rgb_data_transform(np.array(train_data))\n",
    "x_validation = rgb_data_transform(np.array(validation_data))"
   ]
  },
  {
   "cell_type": "code",
   "execution_count": 13,
   "metadata": {},
   "outputs": [],
   "source": [
    "# encode text category labels\n",
    "from sklearn.preprocessing import LabelEncoder\n",
    "from sklearn.preprocessing import OneHotEncoder\n",
    "\n",
    "# one hot encoding for training and validation\n",
    "label_encoder = LabelEncoder()\n",
    "train_labels_integer_encoded = label_encoder.fit_transform(train_labels)\n",
    "validation_labels_integer_encoded = label_encoder.fit_transform(validation_labels)\n",
    "\n",
    "# print(train_labels_integer_encoded)\n",
    "\n",
    "onehot_encoder = OneHotEncoder(sparse=False)\n",
    "train_labels_integer_encoded = train_labels_integer_encoded.reshape(len(train_labels_integer_encoded), 1)\n",
    "train_label_enc = onehot_encoder.fit_transform(train_labels_integer_encoded)\n",
    "\n",
    "validation_labels_integer_encoded = validation_labels_integer_encoded.reshape(len(validation_labels_integer_encoded), 1)\n",
    "validation_label_enc = onehot_encoder.fit_transform(validation_labels_integer_encoded)\n"
   ]
  },
  {
   "cell_type": "code",
   "execution_count": 15,
   "metadata": {},
   "outputs": [
    {
     "name": "stdout",
     "output_type": "stream",
     "text": [
      "Model: \"sequential_2\"\n",
      "_________________________________________________________________\n",
      "Layer (type)                 Output Shape              Param #   \n",
      "=================================================================\n",
      "conv3d_3 (Conv3D)            (None, 30, 30, 47, 32)    2624      \n",
      "_________________________________________________________________\n",
      "max_pooling3d_3 (MaxPooling3 (None, 15, 15, 23, 32)    0         \n",
      "_________________________________________________________________\n",
      "batch_normalization_3 (Batch (None, 15, 15, 23, 32)    128       \n",
      "_________________________________________________________________\n",
      "dropout_3 (Dropout)          (None, 15, 15, 23, 32)    0         \n",
      "_________________________________________________________________\n",
      "conv3d_4 (Conv3D)            (None, 13, 13, 21, 64)    55360     \n",
      "_________________________________________________________________\n",
      "max_pooling3d_4 (MaxPooling3 (None, 6, 6, 10, 64)      0         \n",
      "_________________________________________________________________\n",
      "batch_normalization_4 (Batch (None, 6, 6, 10, 64)      256       \n",
      "_________________________________________________________________\n",
      "dropout_4 (Dropout)          (None, 6, 6, 10, 64)      0         \n",
      "_________________________________________________________________\n",
      "flatten_2 (Flatten)          (None, 23040)             0         \n",
      "_________________________________________________________________\n",
      "dense_4 (Dense)              (None, 256)               5898496   \n",
      "_________________________________________________________________\n",
      "dense_5 (Dense)              (None, 256)               65792     \n",
      "_________________________________________________________________\n",
      "dense_6 (Dense)              (None, 9)                 2313      \n",
      "=================================================================\n",
      "Total params: 6,024,969\n",
      "Trainable params: 6,024,777\n",
      "Non-trainable params: 192\n",
      "_________________________________________________________________\n",
      "Train on 9000 samples, validate on 8774 samples\n",
      "Epoch 1/40\n",
      "9000/9000 [==============================] - 120s 13ms/step - loss: 3.2084 - accuracy: 0.2301 - val_loss: 2.9345 - val_accuracy: 0.1289\n",
      "Epoch 2/40\n",
      "9000/9000 [==============================] - 52s 6ms/step - loss: 1.7212 - accuracy: 0.4134 - val_loss: 3.1167 - val_accuracy: 0.1237\n",
      "Epoch 3/40\n",
      "9000/9000 [==============================] - 34s 4ms/step - loss: 1.3108 - accuracy: 0.5570 - val_loss: 3.5885 - val_accuracy: 0.1353\n",
      "Epoch 4/40\n",
      "9000/9000 [==============================] - 33s 4ms/step - loss: 0.9625 - accuracy: 0.6832 - val_loss: 4.1755 - val_accuracy: 0.1185\n",
      "Epoch 5/40\n",
      "9000/9000 [==============================] - 33s 4ms/step - loss: 0.7609 - accuracy: 0.7483 - val_loss: 4.3050 - val_accuracy: 0.1220\n",
      "Epoch 6/40\n",
      "9000/9000 [==============================] - 33s 4ms/step - loss: 0.6300 - accuracy: 0.7900 - val_loss: 4.6861 - val_accuracy: 0.1453\n",
      "Epoch 7/40\n",
      "9000/9000 [==============================] - 33s 4ms/step - loss: 0.4980 - accuracy: 0.8372 - val_loss: 5.7469 - val_accuracy: 0.1313\n",
      "Epoch 8/40\n",
      "9000/9000 [==============================] - 33s 4ms/step - loss: 0.4286 - accuracy: 0.8617 - val_loss: 5.7317 - val_accuracy: 0.1272\n",
      "Epoch 9/40\n",
      "9000/9000 [==============================] - 33s 4ms/step - loss: 0.3956 - accuracy: 0.8699 - val_loss: 5.4634 - val_accuracy: 0.1346\n",
      "Epoch 10/40\n",
      "9000/9000 [==============================] - 33s 4ms/step - loss: 0.3569 - accuracy: 0.8899 - val_loss: 6.3652 - val_accuracy: 0.1193\n",
      "Epoch 11/40\n",
      "9000/9000 [==============================] - 33s 4ms/step - loss: 0.3026 - accuracy: 0.9018 - val_loss: 6.5666 - val_accuracy: 0.1495\n",
      "Epoch 12/40\n",
      "9000/9000 [==============================] - 33s 4ms/step - loss: 0.3261 - accuracy: 0.8979 - val_loss: 6.8290 - val_accuracy: 0.1287\n",
      "Epoch 13/40\n",
      "9000/9000 [==============================] - 33s 4ms/step - loss: 0.2882 - accuracy: 0.9078 - val_loss: 6.8346 - val_accuracy: 0.1433\n",
      "Epoch 14/40\n",
      "9000/9000 [==============================] - 33s 4ms/step - loss: 0.2693 - accuracy: 0.9136 - val_loss: 7.1097 - val_accuracy: 0.1411\n",
      "Epoch 15/40\n",
      "9000/9000 [==============================] - 34s 4ms/step - loss: 0.2588 - accuracy: 0.9236 - val_loss: 7.0960 - val_accuracy: 0.1388\n",
      "Epoch 16/40\n",
      "9000/9000 [==============================] - 33s 4ms/step - loss: 0.2742 - accuracy: 0.9152 - val_loss: 6.7062 - val_accuracy: 0.1231\n",
      "Epoch 17/40\n",
      "9000/9000 [==============================] - 33s 4ms/step - loss: 0.2441 - accuracy: 0.9291 - val_loss: 6.6749 - val_accuracy: 0.1346\n",
      "Epoch 18/40\n",
      "9000/9000 [==============================] - 33s 4ms/step - loss: 0.2060 - accuracy: 0.9386 - val_loss: 6.7124 - val_accuracy: 0.1395\n",
      "Epoch 19/40\n",
      "9000/9000 [==============================] - 34s 4ms/step - loss: 0.2214 - accuracy: 0.9346 - val_loss: 8.1875 - val_accuracy: 0.1321\n",
      "Epoch 20/40\n",
      "9000/9000 [==============================] - 34s 4ms/step - loss: 0.1926 - accuracy: 0.9399 - val_loss: 7.0657 - val_accuracy: 0.1354\n",
      "Epoch 21/40\n",
      "9000/9000 [==============================] - 34s 4ms/step - loss: 0.2013 - accuracy: 0.9381 - val_loss: 7.0083 - val_accuracy: 0.1410\n",
      "Epoch 22/40\n",
      "9000/9000 [==============================] - 33s 4ms/step - loss: 0.1607 - accuracy: 0.9487 - val_loss: 7.3752 - val_accuracy: 0.1369\n",
      "Epoch 23/40\n",
      "9000/9000 [==============================] - 33s 4ms/step - loss: 0.1818 - accuracy: 0.9432 - val_loss: 7.5159 - val_accuracy: 0.1516\n",
      "Epoch 24/40\n",
      "9000/9000 [==============================] - 34s 4ms/step - loss: 0.1902 - accuracy: 0.9458 - val_loss: 8.2821 - val_accuracy: 0.1371\n",
      "Epoch 25/40\n",
      "9000/9000 [==============================] - 34s 4ms/step - loss: 0.1779 - accuracy: 0.9466 - val_loss: 7.6642 - val_accuracy: 0.1297\n",
      "Epoch 26/40\n",
      "9000/9000 [==============================] - 38s 4ms/step - loss: 0.1464 - accuracy: 0.9564 - val_loss: 7.5327 - val_accuracy: 0.1321\n",
      "Epoch 27/40\n",
      "9000/9000 [==============================] - 37s 4ms/step - loss: 0.1472 - accuracy: 0.9554 - val_loss: 9.2529 - val_accuracy: 0.1349\n",
      "Epoch 28/40\n",
      "9000/9000 [==============================] - 34s 4ms/step - loss: 0.1497 - accuracy: 0.9567 - val_loss: 7.8062 - val_accuracy: 0.1352\n",
      "Epoch 29/40\n",
      "9000/9000 [==============================] - 35s 4ms/step - loss: 0.1670 - accuracy: 0.9522 - val_loss: 7.9447 - val_accuracy: 0.1291\n",
      "Epoch 30/40\n",
      "9000/9000 [==============================] - 35s 4ms/step - loss: 0.1474 - accuracy: 0.9568 - val_loss: 8.1531 - val_accuracy: 0.1281\n",
      "Epoch 31/40\n",
      "9000/9000 [==============================] - 35s 4ms/step - loss: 0.1633 - accuracy: 0.9544 - val_loss: 7.8442 - val_accuracy: 0.1329\n",
      "Epoch 32/40\n",
      "9000/9000 [==============================] - 34s 4ms/step - loss: 0.1311 - accuracy: 0.9630 - val_loss: 7.9601 - val_accuracy: 0.1315\n",
      "Epoch 33/40\n",
      "9000/9000 [==============================] - 35s 4ms/step - loss: 0.1110 - accuracy: 0.9668 - val_loss: 8.4844 - val_accuracy: 0.1249\n",
      "Epoch 34/40\n",
      "9000/9000 [==============================] - 34s 4ms/step - loss: 0.1090 - accuracy: 0.9686 - val_loss: 8.8699 - val_accuracy: 0.1327\n",
      "Epoch 35/40\n",
      "9000/9000 [==============================] - 34s 4ms/step - loss: 0.1302 - accuracy: 0.9623 - val_loss: 8.8147 - val_accuracy: 0.1204\n",
      "Epoch 36/40\n",
      "9000/9000 [==============================] - 34s 4ms/step - loss: 0.1296 - accuracy: 0.9630 - val_loss: 9.0863 - val_accuracy: 0.1355\n",
      "Epoch 37/40\n",
      "9000/9000 [==============================] - 34s 4ms/step - loss: 0.1212 - accuracy: 0.9668 - val_loss: 9.0688 - val_accuracy: 0.1419\n",
      "Epoch 38/40\n",
      "9000/9000 [==============================] - 34s 4ms/step - loss: 0.1360 - accuracy: 0.9631 - val_loss: 7.7575 - val_accuracy: 0.1375\n",
      "Epoch 39/40\n",
      "9000/9000 [==============================] - 34s 4ms/step - loss: 0.1132 - accuracy: 0.9670 - val_loss: 8.7268 - val_accuracy: 0.1335\n",
      "Epoch 40/40\n",
      "9000/9000 [==============================] - 34s 4ms/step - loss: 0.1188 - accuracy: 0.9668 - val_loss: 9.4561 - val_accuracy: 0.1224\n"
     ]
    }
   ],
   "source": [
    "sample_shape = (32, 32, 49, 3)\n",
    "# Create the model\n",
    "model = Sequential()\n",
    "model.add(Conv3D(32, kernel_size=(3, 3, 3), activation='relu', kernel_initializer='he_uniform', input_shape=sample_shape))\n",
    "model.add(MaxPooling3D(pool_size=(2, 2, 2)))\n",
    "model.add(BatchNormalization(center=True, scale=True))\n",
    "model.add(Dropout(0.5))\n",
    "model.add(Conv3D(64, kernel_size=(3, 3, 3), activation='relu', kernel_initializer='he_uniform'))\n",
    "model.add(MaxPooling3D(pool_size=(2, 2, 2)))\n",
    "model.add(BatchNormalization(center=True, scale=True))\n",
    "model.add(Dropout(0.5))\n",
    "model.add(Flatten())\n",
    "model.add(Dense(256, activation='relu', kernel_initializer='he_uniform'))\n",
    "model.add(Dense(256, activation='relu', kernel_initializer='he_uniform'))\n",
    "model.add(Dense(9, activation='softmax'))\n",
    "\n",
    "# Compile the model\n",
    "model.compile(loss='categorical_crossentropy',\n",
    "              optimizer=keras.optimizers.Adam(lr=0.001),\n",
    "              metrics=['accuracy'])\n",
    "model.summary()\n",
    "# Fit data to model\n",
    "history = model.fit(x_train, train_label_enc,\n",
    "            validation_data=(x_validation, validation_label_enc),\n",
    "            batch_size=28,\n",
    "            epochs=40,\n",
    "            verbose=1)"
   ]
  },
  {
   "cell_type": "code",
   "execution_count": 16,
   "metadata": {},
   "outputs": [
    {
     "data": {
      "image/png": "[encoded data removed]",
      "text/plain": [
       "<Figure size 864x288 with 2 Axes>"
      ]
     },
     "metadata": {
      "needs_background": "light"
     },
     "output_type": "display_data"
    }
   ],
   "source": [
    "# plotting accuracy\n",
    "f, (ax1, ax2) = plt.subplots(1, 2, figsize=(12, 4))\n",
    "t = f.suptitle('3D CNN Performance', fontsize=12)\n",
    "f.subplots_adjust(top=0.85, wspace=0.3)\n",
    "\n",
    "epoch_list = list(range(1,41))\n",
    "ax1.plot(epoch_list, history.history['accuracy'], label='Train Accuracy')\n",
    "ax1.plot(epoch_list, history.history['val_accuracy'], label='Validation Accuracy')\n",
    "ax1.set_xticks(np.arange(0, 31, 5))\n",
    "ax1.set_ylabel('Accuracy Value')\n",
    "ax1.set_xlabel('Epoch')\n",
    "ax1.set_title('Accuracy')\n",
    "l1 = ax1.legend(loc=\"best\")\n",
    "\n",
    "ax2.plot(epoch_list, history.history['loss'], label='Train Loss')\n",
    "ax2.plot(epoch_list, history.history['val_loss'], label='Validation Loss')\n",
    "ax2.set_xticks(np.arange(0, 41, 5))\n",
    "ax2.set_ylabel('Loss Value')\n",
    "ax2.set_xlabel('Epoch')\n",
    "ax2.set_title('Loss')\n",
    "l2 = ax2.legend(loc=\"best\")"
   ]
  }
 ],
 "metadata": {
  "kernelspec": {
   "display_name": "capstone-project",
   "language": "python",
   "name": "capstone-project"
  },
  "language_info": {
   "codemirror_mode": {
    "name": "ipython",
    "version": 3
   },
   "file_extension": ".py",
   "mimetype": "text/x-python",
   "name": "python",
   "nbconvert_exporter": "python",
   "pygments_lexer": "ipython3",
   "version": "3.7.7"
  }
 },
 "nbformat": 4,
 "nbformat_minor": 4
}
