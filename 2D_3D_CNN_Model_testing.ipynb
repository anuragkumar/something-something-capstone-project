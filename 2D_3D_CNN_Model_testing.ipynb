{
 "cells": [
  {
   "cell_type": "code",
   "execution_count": 1,
   "metadata": {},
   "outputs": [],
   "source": [
    "# This notebook implements 2D CNN (VGG16) as feature extractor\n",
    "# and implements 3D CNN for final prediction"
   ]
  },
  {
   "cell_type": "code",
   "execution_count": 2,
   "metadata": {},
   "outputs": [],
   "source": [
    "# The code is written to reuse as much memory as possible to\n",
    "# minimize the memory usage as the amount of data (extracted images)\n",
    "# is large and I have only 16 GB of RAM space"
   ]
  },
  {
   "cell_type": "code",
   "execution_count": 3,
   "metadata": {},
   "outputs": [],
   "source": [
    "# My system comfiguration:\n",
    "# 16 GB RAM\n",
    "# 1 TB HDD\n",
    "# 256 GB SSD\n",
    "# NVIDIA GTX 1070 8 GB GPU RAM\n",
    "# I7 8th GEN Intel CPU"
   ]
  },
  {
   "cell_type": "code",
   "execution_count": 4,
   "metadata": {},
   "outputs": [
    {
     "name": "stderr",
     "output_type": "stream",
     "text": [
      "Using TensorFlow backend.\n",
      "C:\\Users\\Light\\anaconda3\\envs\\dogs-vs-cats\\lib\\site-packages\\tensorflow\\python\\framework\\dtypes.py:516: FutureWarning: Passing (type, 1) or '1type' as a synonym of type is deprecated; in a future version of numpy, it will be understood as (type, (1,)) / '(1,)type'.\n",
      "  _np_qint8 = np.dtype([(\"qint8\", np.int8, 1)])\n",
      "C:\\Users\\Light\\anaconda3\\envs\\dogs-vs-cats\\lib\\site-packages\\tensorflow\\python\\framework\\dtypes.py:517: FutureWarning: Passing (type, 1) or '1type' as a synonym of type is deprecated; in a future version of numpy, it will be understood as (type, (1,)) / '(1,)type'.\n",
      "  _np_quint8 = np.dtype([(\"quint8\", np.uint8, 1)])\n",
      "C:\\Users\\Light\\anaconda3\\envs\\dogs-vs-cats\\lib\\site-packages\\tensorflow\\python\\framework\\dtypes.py:518: FutureWarning: Passing (type, 1) or '1type' as a synonym of type is deprecated; in a future version of numpy, it will be understood as (type, (1,)) / '(1,)type'.\n",
      "  _np_qint16 = np.dtype([(\"qint16\", np.int16, 1)])\n",
      "C:\\Users\\Light\\anaconda3\\envs\\dogs-vs-cats\\lib\\site-packages\\tensorflow\\python\\framework\\dtypes.py:519: FutureWarning: Passing (type, 1) or '1type' as a synonym of type is deprecated; in a future version of numpy, it will be understood as (type, (1,)) / '(1,)type'.\n",
      "  _np_quint16 = np.dtype([(\"quint16\", np.uint16, 1)])\n",
      "C:\\Users\\Light\\anaconda3\\envs\\dogs-vs-cats\\lib\\site-packages\\tensorflow\\python\\framework\\dtypes.py:520: FutureWarning: Passing (type, 1) or '1type' as a synonym of type is deprecated; in a future version of numpy, it will be understood as (type, (1,)) / '(1,)type'.\n",
      "  _np_qint32 = np.dtype([(\"qint32\", np.int32, 1)])\n",
      "C:\\Users\\Light\\anaconda3\\envs\\dogs-vs-cats\\lib\\site-packages\\tensorflow\\python\\framework\\dtypes.py:525: FutureWarning: Passing (type, 1) or '1type' as a synonym of type is deprecated; in a future version of numpy, it will be understood as (type, (1,)) / '(1,)type'.\n",
      "  np_resource = np.dtype([(\"resource\", np.ubyte, 1)])\n",
      "C:\\Users\\Light\\anaconda3\\envs\\dogs-vs-cats\\lib\\site-packages\\tensorboard\\compat\\tensorflow_stub\\dtypes.py:541: FutureWarning: Passing (type, 1) or '1type' as a synonym of type is deprecated; in a future version of numpy, it will be understood as (type, (1,)) / '(1,)type'.\n",
      "  _np_qint8 = np.dtype([(\"qint8\", np.int8, 1)])\n",
      "C:\\Users\\Light\\anaconda3\\envs\\dogs-vs-cats\\lib\\site-packages\\tensorboard\\compat\\tensorflow_stub\\dtypes.py:542: FutureWarning: Passing (type, 1) or '1type' as a synonym of type is deprecated; in a future version of numpy, it will be understood as (type, (1,)) / '(1,)type'.\n",
      "  _np_quint8 = np.dtype([(\"quint8\", np.uint8, 1)])\n",
      "C:\\Users\\Light\\anaconda3\\envs\\dogs-vs-cats\\lib\\site-packages\\tensorboard\\compat\\tensorflow_stub\\dtypes.py:543: FutureWarning: Passing (type, 1) or '1type' as a synonym of type is deprecated; in a future version of numpy, it will be understood as (type, (1,)) / '(1,)type'.\n",
      "  _np_qint16 = np.dtype([(\"qint16\", np.int16, 1)])\n",
      "C:\\Users\\Light\\anaconda3\\envs\\dogs-vs-cats\\lib\\site-packages\\tensorboard\\compat\\tensorflow_stub\\dtypes.py:544: FutureWarning: Passing (type, 1) or '1type' as a synonym of type is deprecated; in a future version of numpy, it will be understood as (type, (1,)) / '(1,)type'.\n",
      "  _np_quint16 = np.dtype([(\"quint16\", np.uint16, 1)])\n",
      "C:\\Users\\Light\\anaconda3\\envs\\dogs-vs-cats\\lib\\site-packages\\tensorboard\\compat\\tensorflow_stub\\dtypes.py:545: FutureWarning: Passing (type, 1) or '1type' as a synonym of type is deprecated; in a future version of numpy, it will be understood as (type, (1,)) / '(1,)type'.\n",
      "  _np_qint32 = np.dtype([(\"qint32\", np.int32, 1)])\n",
      "C:\\Users\\Light\\anaconda3\\envs\\dogs-vs-cats\\lib\\site-packages\\tensorboard\\compat\\tensorflow_stub\\dtypes.py:550: FutureWarning: Passing (type, 1) or '1type' as a synonym of type is deprecated; in a future version of numpy, it will be understood as (type, (1,)) / '(1,)type'.\n",
      "  np_resource = np.dtype([(\"resource\", np.ubyte, 1)])\n"
     ]
    }
   ],
   "source": [
    "# for loading images\n",
    "import glob\n",
    "\n",
    "# for image array processing\n",
    "import numpy as np\n",
    "import pandas as pd\n",
    "\n",
    "# for maintaing system path\n",
    "import os\n",
    "\n",
    "# for processing images\n",
    "import cv2\n",
    "import matplotlib.pyplot as plt\n",
    "\n",
    "# encoding labels catogories\n",
    "from sklearn.preprocessing import LabelEncoder\n",
    "# multi class encoding\n",
    "from sklearn.preprocessing import OneHotEncoder\n",
    "\n",
    "# pretrained model\n",
    "from keras.applications import vgg16\n",
    "\n",
    "# Our 3D model\n",
    "from keras.models import Model\n",
    "import keras\n",
    "from keras.preprocessing.image import ImageDataGenerator, load_img, img_to_array, array_to_img\n",
    "from keras.models import Sequential\n",
    "from keras import optimizers\n",
    "from keras.layers import Dense, Flatten, Conv3D, MaxPooling3D, Dropout, BatchNormalization, InputLayer\n",
    "from keras.utils import to_categorical\n",
    "import h5py\n",
    "\n",
    "%matplotlib inline"
   ]
  },
  {
   "cell_type": "code",
   "execution_count": 5,
   "metadata": {},
   "outputs": [],
   "source": [
    "# train and validation directories\n",
    "train_dir = 'D:\\\\something-something-project\\\\train-images\\\\'\n",
    "validation_dir = 'D:\\\\something-something-project\\\\validation-images\\\\'"
   ]
  },
  {
   "cell_type": "code",
   "execution_count": 6,
   "metadata": {},
   "outputs": [
    {
     "name": "stdout",
     "output_type": "stream",
     "text": [
      "['Dropping_something', 'Holding_something', 'Moving_something', 'Picking_something', 'Poking_something', 'Pouring_something', 'Putting_something', 'Showing_something', 'Tearing_something']\n",
      "['Dropping_something', 'Holding_something', 'Moving_something', 'Picking_something', 'Poking_something', 'Pouring_something', 'Putting_something', 'Showing_something', 'Tearing_something']\n"
     ]
    }
   ],
   "source": [
    "# listing images directory for train and validation\n",
    "train_files = os.listdir(train_dir)\n",
    "print (train_files)\n",
    "\n",
    "validation_files = os.listdir(validation_dir)\n",
    "print (validation_files)"
   ]
  },
  {
   "cell_type": "code",
   "execution_count": 7,
   "metadata": {},
   "outputs": [
    {
     "name": "stdout",
     "output_type": "stream",
     "text": [
      "['D:\\\\something-something-project\\\\train-images\\\\Dropping_something', 'D:\\\\something-something-project\\\\train-images\\\\Holding_something', 'D:\\\\something-something-project\\\\train-images\\\\Moving_something', 'D:\\\\something-something-project\\\\train-images\\\\Picking_something', 'D:\\\\something-something-project\\\\train-images\\\\Poking_something', 'D:\\\\something-something-project\\\\train-images\\\\Pouring_something', 'D:\\\\something-something-project\\\\train-images\\\\Putting_something', 'D:\\\\something-something-project\\\\train-images\\\\Showing_something', 'D:\\\\something-something-project\\\\train-images\\\\Tearing_something']\n",
      "['D:\\\\something-something-project\\\\validation-images\\\\Dropping_something', 'D:\\\\something-something-project\\\\validation-images\\\\Holding_something', 'D:\\\\something-something-project\\\\validation-images\\\\Moving_something', 'D:\\\\something-something-project\\\\validation-images\\\\Picking_something', 'D:\\\\something-something-project\\\\validation-images\\\\Poking_something', 'D:\\\\something-something-project\\\\validation-images\\\\Pouring_something', 'D:\\\\something-something-project\\\\validation-images\\\\Putting_something', 'D:\\\\something-something-project\\\\validation-images\\\\Showing_something', 'D:\\\\something-something-project\\\\validation-images\\\\Tearing_something']\n"
     ]
    }
   ],
   "source": [
    "# generating the full system path\n",
    "train_files_dir = []\n",
    "validation_files_dir = []\n",
    "\n",
    "for f in train_files:\n",
    "    if os.path.join(train_dir, f):\n",
    "        train_files_dir.append(os.path.join(train_dir, f))\n",
    "        \n",
    "for f in validation_files:\n",
    "    if os.path.join(validation_dir, f):\n",
    "        validation_files_dir.append(os.path.join(validation_dir, f))\n",
    "        \n",
    "print (train_files_dir)\n",
    "print (validation_files_dir)"
   ]
  },
  {
   "cell_type": "code",
   "execution_count": 8,
   "metadata": {},
   "outputs": [],
   "source": [
    "# del train_files\n",
    "# del validation_files"
   ]
  },
  {
   "cell_type": "code",
   "execution_count": 9,
   "metadata": {},
   "outputs": [
    {
     "name": "stdout",
     "output_type": "stream",
     "text": [
      "Training Data\n",
      "D:\\something-something-project\\train-images\\Dropping_something 15941\n",
      "D:\\something-something-project\\train-images\\Holding_something 25433\n",
      "D:\\something-something-project\\train-images\\Moving_something 56940\n",
      "D:\\something-something-project\\train-images\\Picking_something 3841\n",
      "D:\\something-something-project\\train-images\\Poking_something 14179\n",
      "D:\\something-something-project\\train-images\\Pouring_something 7280\n",
      "D:\\something-something-project\\train-images\\Putting_something 64208\n",
      "D:\\something-something-project\\train-images\\Showing_something 15682\n",
      "D:\\something-something-project\\train-images\\Tearing_something 11816\n"
     ]
    }
   ],
   "source": [
    "# printing number of images in each directories\n",
    "print (\"Training Data\")\n",
    "for d in train_files_dir:\n",
    "    print (d, len(os.listdir(d)))"
   ]
  },
  {
   "cell_type": "code",
   "execution_count": 10,
   "metadata": {},
   "outputs": [
    {
     "name": "stdout",
     "output_type": "stream",
     "text": [
      "Validation Data\n",
      "D:\\something-something-project\\validation-images\\Dropping_something 3108\n",
      "D:\\something-something-project\\validation-images\\Holding_something 4148\n",
      "D:\\something-something-project\\validation-images\\Moving_something 7463\n",
      "D:\\something-something-project\\validation-images\\Picking_something 774\n",
      "D:\\something-something-project\\validation-images\\Poking_something 1618\n",
      "D:\\something-something-project\\validation-images\\Pouring_something 2023\n",
      "D:\\something-something-project\\validation-images\\Putting_something 7867\n",
      "D:\\something-something-project\\validation-images\\Showing_something 2627\n",
      "D:\\something-something-project\\validation-images\\Tearing_something 3851\n"
     ]
    }
   ],
   "source": [
    "# printing number of images in each directories\n",
    "print (\"Validation Data\")\n",
    "for d in validation_files_dir:\n",
    "    print (d, len(os.listdir(d)))"
   ]
  },
  {
   "cell_type": "code",
   "execution_count": 11,
   "metadata": {},
   "outputs": [
    {
     "name": "stdout",
     "output_type": "stream",
     "text": [
      "Directory:  D:\\something-something-project\\train-images\\Dropping_something\n",
      "Directory:  D:\\something-something-project\\train-images\\Holding_something\n",
      "Directory:  D:\\something-something-project\\train-images\\Moving_something\n",
      "Directory:  D:\\something-something-project\\train-images\\Picking_something\n",
      "Directory:  D:\\something-something-project\\train-images\\Poking_something\n",
      "Directory:  D:\\something-something-project\\train-images\\Pouring_something\n",
      "Directory:  D:\\something-something-project\\train-images\\Putting_something\n",
      "Directory:  D:\\something-something-project\\train-images\\Showing_something\n",
      "Directory:  D:\\something-something-project\\train-images\\Tearing_something\n"
     ]
    }
   ],
   "source": [
    "# loading training data\n",
    "train_data = []\n",
    "train_labels = []\n",
    "for d in train_files_dir:\n",
    "    print ('Directory: ', d)\n",
    "    # commenting out so that one can read all the images, I have less RAM\n",
    "    count = 0\n",
    "    files = glob.glob(d + \"/*.jpg\")\n",
    "    imgs = []\n",
    "    for img in files:\n",
    "        # print (img)\n",
    "        if count == 1000:\n",
    "            break\n",
    "        if not os.path.isfile(img):\n",
    "            continue\n",
    "        imgs.append(cv2.imread(img))\n",
    "        train_labels.append(d.split(\"D:\\\\something-something-project\\\\train-images\\\\\")[1])\n",
    "        count += 1\n",
    "    train_data = train_data + imgs"
   ]
  },
  {
   "cell_type": "code",
   "execution_count": 12,
   "metadata": {},
   "outputs": [
    {
     "name": "stdout",
     "output_type": "stream",
     "text": [
      "Directory:  D:\\something-something-project\\validation-images\\Dropping_something\n",
      "Directory:  D:\\something-something-project\\validation-images\\Holding_something\n",
      "Directory:  D:\\something-something-project\\validation-images\\Moving_something\n",
      "Directory:  D:\\something-something-project\\validation-images\\Picking_something\n",
      "Directory:  D:\\something-something-project\\validation-images\\Poking_something\n",
      "Directory:  D:\\something-something-project\\validation-images\\Pouring_something\n",
      "Directory:  D:\\something-something-project\\validation-images\\Putting_something\n",
      "Directory:  D:\\something-something-project\\validation-images\\Showing_something\n",
      "Directory:  D:\\something-something-project\\validation-images\\Tearing_something\n"
     ]
    }
   ],
   "source": [
    "# loading validation data\n",
    "validation_data = []\n",
    "validation_labels = []\n",
    "for d in validation_files_dir:\n",
    "    print ('Directory: ', d)\n",
    "    count = 0\n",
    "    files = glob.glob(d + \"/*.jpg\")\n",
    "    imgs = []\n",
    "    for img in files:\n",
    "        if count == 500:\n",
    "            break\n",
    "        if not os.path.isfile(img):\n",
    "            continue\n",
    "        imgs.append(cv2.imread(img))\n",
    "        validation_labels.append(d.split(\"D:\\\\something-something-project\\\\validation-images\\\\\")[1])\n",
    "        count += 1\n",
    "    validation_data = validation_data + imgs"
   ]
  },
  {
   "cell_type": "code",
   "execution_count": 13,
   "metadata": {},
   "outputs": [
    {
     "name": "stdout",
     "output_type": "stream",
     "text": [
      "Train Data:  9000 \tTrain Labels:  9000\n",
      "Validation Data:  4500 \tValidation Labels:  4500\n"
     ]
    }
   ],
   "source": [
    "print (\"Train Data: \", len(train_data), \"\\tTrain Labels: \", len(train_labels))\n",
    "print (\"Validation Data: \", len(validation_data), \"\\tValidation Labels: \", len(validation_labels))"
   ]
  },
  {
   "cell_type": "code",
   "execution_count": 32,
   "metadata": {},
   "outputs": [],
   "source": [
    "# Training Data (there are some corrupted files, so use the next column)\n",
    "IMG_DIM = (84, 84)\n",
    "\n",
    "train_imgs = [img_to_array(cv2.resize(img, IMG_DIM)) for img in train_data]\n",
    "train_imgs = np.array(train_imgs)\n",
    "\n",
    "validation_imgs = [img_to_array(cv2.resize(img, IMG_DIM)) for img in validation_data]\n",
    "validation_imgs = np.array(validation_imgs)"
   ]
  },
  {
   "cell_type": "code",
   "execution_count": 15,
   "metadata": {},
   "outputs": [],
   "source": [
    "# # Training Data\n",
    "# # since there are few corrupted images, we need to remove that label as well\n",
    "# IMG_DIM = (84, 84)\n",
    "# train_imgs = []\n",
    "# validation_imgs = []\n",
    "\n",
    "# i = 0\n",
    "\n",
    "# while i < len(train_data):\n",
    "#     try:\n",
    "#         train_imgs.append(img_to_array(cv2.resize(img, IMG_DIM)))\n",
    "#         i += 1\n",
    "#     except Exception as e:\n",
    "#         print ('Exception found: ', e)\n",
    "#         # delete from label as well\n",
    "#         del train_labels[i]\n",
    "#         i += 1\n",
    "#         continue\n",
    "        \n",
    "# train_imgs = np.array(train_imgs)\n",
    "        \n",
    "# i = 0\n",
    "\n",
    "# while i < len(validation_data):\n",
    "#     try:\n",
    "#         validation_imgs.append(img_to_array(cv2.resize(img, IMG_DIM)))\n",
    "#         i += 1\n",
    "#     except Exception as e:\n",
    "#         print ('Exception found: ', e)\n",
    "#         # delete from label as well\n",
    "#         del validation_labels[i]\n",
    "#         i += 1\n",
    "#         continue\n",
    "        \n",
    "# validation_imgs = np.array(validation_imgs)"
   ]
  },
  {
   "cell_type": "code",
   "execution_count": 33,
   "metadata": {},
   "outputs": [
    {
     "name": "stdout",
     "output_type": "stream",
     "text": [
      "Train dataset shape: (9000, 84, 84, 3) \tValidation dataset shape: (4500, 84, 84, 3)\n"
     ]
    }
   ],
   "source": [
    "print('Train dataset shape:', train_imgs.shape, '\\tValidation dataset shape:', validation_imgs.shape)"
   ]
  },
  {
   "cell_type": "code",
   "execution_count": 34,
   "metadata": {},
   "outputs": [
    {
     "name": "stdout",
     "output_type": "stream",
     "text": [
      "(84, 84, 3)\n"
     ]
    },
    {
     "data": {
      "image/png": "[encoded data removed]",
      "text/plain": [
       "<PIL.Image.Image image mode=RGB size=84x84 at 0x21E2C0C0048>"
      ]
     },
     "execution_count": 34,
     "metadata": {},
     "output_type": "execute_result"
    }
   ],
   "source": [
    "train_imgs_scaled = train_imgs.astype('float32')\n",
    "validation_imgs_scaled  = validation_imgs.astype('float32')\n",
    "train_imgs_scaled /= 255\n",
    "validation_imgs_scaled /= 255\n",
    "\n",
    "print(train_imgs[0].shape)\n",
    "array_to_img(train_imgs[0])"
   ]
  },
  {
   "cell_type": "code",
   "execution_count": 35,
   "metadata": {},
   "outputs": [],
   "source": [
    "# parameters\n",
    "batch_size = 30\n",
    "num_classes = 9\n",
    "epochs = 30\n",
    "input_shape = (84, 84, 84, 3)\n",
    "\n",
    "# one hot encoding for training and validation\n",
    "label_encoder = LabelEncoder()\n",
    "train_labels_integer_encoded = label_encoder.fit_transform(train_labels)\n",
    "validation_labels_integer_encoded = label_encoder.fit_transform(validation_labels)\n",
    "\n",
    "# print(train_labels_integer_encoded)\n",
    "\n",
    "onehot_encoder = OneHotEncoder(sparse=False)\n",
    "train_labels_integer_encoded = train_labels_integer_encoded.reshape(len(train_labels_integer_encoded), 1)\n",
    "train_label_enc = onehot_encoder.fit_transform(train_labels_integer_encoded)\n",
    "\n",
    "validation_labels_integer_encoded = validation_labels_integer_encoded.reshape(len(validation_labels_integer_encoded), 1)\n",
    "validation_label_enc = onehot_encoder.fit_transform(validation_labels_integer_encoded)\n",
    "\n",
    "# print(train_labels[1495:1505], train_labels_enc[1495:1505])\n",
    "\n",
    "# # invert first example\n",
    "# inverted = label_encoder.inverse_transform([argmax(onehot_encoded[0, :])])\n",
    "# print(inverted)\n"
   ]
  },
  {
   "cell_type": "code",
   "execution_count": 36,
   "metadata": {},
   "outputs": [
    {
     "ename": "ValueError",
     "evalue": "`input_shape` must be a tuple of three integers.",
     "output_type": "error",
     "traceback": [
      "\u001b[1;31m---------------------------------------------------------------------------\u001b[0m",
      "\u001b[1;31mValueError\u001b[0m                                Traceback (most recent call last)",
      "\u001b[1;32m<ipython-input-36-6df73ce6d301>\u001b[0m in \u001b[0;36m<module>\u001b[1;34m\u001b[0m\n\u001b[0;32m      2\u001b[0m \u001b[1;33m\u001b[0m\u001b[0m\n\u001b[0;32m      3\u001b[0m vgg = vgg16.VGG16(include_top=False, weights='imagenet', \n\u001b[1;32m----> 4\u001b[1;33m                                      input_shape=input_shape)\n\u001b[0m\u001b[0;32m      5\u001b[0m \u001b[1;33m\u001b[0m\u001b[0m\n\u001b[0;32m      6\u001b[0m \u001b[0moutput\u001b[0m \u001b[1;33m=\u001b[0m \u001b[0mvgg\u001b[0m\u001b[1;33m.\u001b[0m\u001b[0mlayers\u001b[0m\u001b[1;33m[\u001b[0m\u001b[1;33m-\u001b[0m\u001b[1;36m1\u001b[0m\u001b[1;33m]\u001b[0m\u001b[1;33m.\u001b[0m\u001b[0moutput\u001b[0m\u001b[1;33m\u001b[0m\u001b[1;33m\u001b[0m\u001b[0m\n",
      "\u001b[1;32m~\\anaconda3\\envs\\dogs-vs-cats\\lib\\site-packages\\keras\\applications\\__init__.py\u001b[0m in \u001b[0;36mwrapper\u001b[1;34m(*args, **kwargs)\u001b[0m\n\u001b[0;32m     18\u001b[0m         \u001b[0mkwargs\u001b[0m\u001b[1;33m[\u001b[0m\u001b[1;34m'models'\u001b[0m\u001b[1;33m]\u001b[0m \u001b[1;33m=\u001b[0m \u001b[0mmodels\u001b[0m\u001b[1;33m\u001b[0m\u001b[1;33m\u001b[0m\u001b[0m\n\u001b[0;32m     19\u001b[0m         \u001b[0mkwargs\u001b[0m\u001b[1;33m[\u001b[0m\u001b[1;34m'utils'\u001b[0m\u001b[1;33m]\u001b[0m \u001b[1;33m=\u001b[0m \u001b[0mutils\u001b[0m\u001b[1;33m\u001b[0m\u001b[1;33m\u001b[0m\u001b[0m\n\u001b[1;32m---> 20\u001b[1;33m         \u001b[1;32mreturn\u001b[0m \u001b[0mbase_fun\u001b[0m\u001b[1;33m(\u001b[0m\u001b[1;33m*\u001b[0m\u001b[0margs\u001b[0m\u001b[1;33m,\u001b[0m \u001b[1;33m**\u001b[0m\u001b[0mkwargs\u001b[0m\u001b[1;33m)\u001b[0m\u001b[1;33m\u001b[0m\u001b[1;33m\u001b[0m\u001b[0m\n\u001b[0m\u001b[0;32m     21\u001b[0m \u001b[1;33m\u001b[0m\u001b[0m\n\u001b[0;32m     22\u001b[0m     \u001b[1;32mreturn\u001b[0m \u001b[0mwrapper\u001b[0m\u001b[1;33m\u001b[0m\u001b[1;33m\u001b[0m\u001b[0m\n",
      "\u001b[1;32m~\\anaconda3\\envs\\dogs-vs-cats\\lib\\site-packages\\keras\\applications\\vgg16.py\u001b[0m in \u001b[0;36mVGG16\u001b[1;34m(*args, **kwargs)\u001b[0m\n\u001b[0;32m      9\u001b[0m \u001b[1;33m@\u001b[0m\u001b[0mkeras_modules_injection\u001b[0m\u001b[1;33m\u001b[0m\u001b[1;33m\u001b[0m\u001b[0m\n\u001b[0;32m     10\u001b[0m \u001b[1;32mdef\u001b[0m \u001b[0mVGG16\u001b[0m\u001b[1;33m(\u001b[0m\u001b[1;33m*\u001b[0m\u001b[0margs\u001b[0m\u001b[1;33m,\u001b[0m \u001b[1;33m**\u001b[0m\u001b[0mkwargs\u001b[0m\u001b[1;33m)\u001b[0m\u001b[1;33m:\u001b[0m\u001b[1;33m\u001b[0m\u001b[1;33m\u001b[0m\u001b[0m\n\u001b[1;32m---> 11\u001b[1;33m     \u001b[1;32mreturn\u001b[0m \u001b[0mvgg16\u001b[0m\u001b[1;33m.\u001b[0m\u001b[0mVGG16\u001b[0m\u001b[1;33m(\u001b[0m\u001b[1;33m*\u001b[0m\u001b[0margs\u001b[0m\u001b[1;33m,\u001b[0m \u001b[1;33m**\u001b[0m\u001b[0mkwargs\u001b[0m\u001b[1;33m)\u001b[0m\u001b[1;33m\u001b[0m\u001b[1;33m\u001b[0m\u001b[0m\n\u001b[0m\u001b[0;32m     12\u001b[0m \u001b[1;33m\u001b[0m\u001b[0m\n\u001b[0;32m     13\u001b[0m \u001b[1;33m\u001b[0m\u001b[0m\n",
      "\u001b[1;32m~\\anaconda3\\envs\\dogs-vs-cats\\lib\\site-packages\\keras_applications\\vgg16.py\u001b[0m in \u001b[0;36mVGG16\u001b[1;34m(include_top, weights, input_tensor, input_shape, pooling, classes, **kwargs)\u001b[0m\n\u001b[0;32m     97\u001b[0m                                       \u001b[0mdata_format\u001b[0m\u001b[1;33m=\u001b[0m\u001b[0mbackend\u001b[0m\u001b[1;33m.\u001b[0m\u001b[0mimage_data_format\u001b[0m\u001b[1;33m(\u001b[0m\u001b[1;33m)\u001b[0m\u001b[1;33m,\u001b[0m\u001b[1;33m\u001b[0m\u001b[1;33m\u001b[0m\u001b[0m\n\u001b[0;32m     98\u001b[0m                                       \u001b[0mrequire_flatten\u001b[0m\u001b[1;33m=\u001b[0m\u001b[0minclude_top\u001b[0m\u001b[1;33m,\u001b[0m\u001b[1;33m\u001b[0m\u001b[1;33m\u001b[0m\u001b[0m\n\u001b[1;32m---> 99\u001b[1;33m                                       weights=weights)\n\u001b[0m\u001b[0;32m    100\u001b[0m \u001b[1;33m\u001b[0m\u001b[0m\n\u001b[0;32m    101\u001b[0m     \u001b[1;32mif\u001b[0m \u001b[0minput_tensor\u001b[0m \u001b[1;32mis\u001b[0m \u001b[1;32mNone\u001b[0m\u001b[1;33m:\u001b[0m\u001b[1;33m\u001b[0m\u001b[1;33m\u001b[0m\u001b[0m\n",
      "\u001b[1;32m~\\anaconda3\\envs\\dogs-vs-cats\\lib\\site-packages\\keras_applications\\imagenet_utils.py\u001b[0m in \u001b[0;36m_obtain_input_shape\u001b[1;34m(input_shape, default_size, min_size, data_format, require_flatten, weights)\u001b[0m\n\u001b[0;32m    311\u001b[0m                 \u001b[1;32mif\u001b[0m \u001b[0mlen\u001b[0m\u001b[1;33m(\u001b[0m\u001b[0minput_shape\u001b[0m\u001b[1;33m)\u001b[0m \u001b[1;33m!=\u001b[0m \u001b[1;36m3\u001b[0m\u001b[1;33m:\u001b[0m\u001b[1;33m\u001b[0m\u001b[1;33m\u001b[0m\u001b[0m\n\u001b[0;32m    312\u001b[0m                     raise ValueError(\n\u001b[1;32m--> 313\u001b[1;33m                         '`input_shape` must be a tuple of three integers.')\n\u001b[0m\u001b[0;32m    314\u001b[0m                 \u001b[1;32mif\u001b[0m \u001b[0minput_shape\u001b[0m\u001b[1;33m[\u001b[0m\u001b[1;33m-\u001b[0m\u001b[1;36m1\u001b[0m\u001b[1;33m]\u001b[0m \u001b[1;33m!=\u001b[0m \u001b[1;36m3\u001b[0m \u001b[1;32mand\u001b[0m \u001b[0mweights\u001b[0m \u001b[1;33m==\u001b[0m \u001b[1;34m'imagenet'\u001b[0m\u001b[1;33m:\u001b[0m\u001b[1;33m\u001b[0m\u001b[1;33m\u001b[0m\u001b[0m\n\u001b[0;32m    315\u001b[0m                     raise ValueError('The input must have 3 channels; got '\n",
      "\u001b[1;31mValueError\u001b[0m: `input_shape` must be a tuple of three integers."
     ]
    }
   ],
   "source": [
    "# using pretrained VGG16 model\n",
    "\n",
    "vgg = vgg16.VGG16(include_top=False, weights='imagenet', \n",
    "                                     input_shape=input_shape)\n",
    "\n",
    "output = vgg.layers[-1].output\n",
    "output = keras.layers.Flatten()(output)\n",
    "vgg_model = Model(vgg.input, output)\n",
    "\n",
    "vgg_model.trainable = False\n",
    "for layer in vgg_model.layers:\n",
    "    layer.trainable = False\n",
    "\n",
    "pd.set_option('max_colwidth', -1)\n",
    "layers = [(layer, layer.name, layer.trainable) for layer in vgg_model.layers]\n",
    "pd.DataFrame(layers, columns=['Layer Type', 'Layer Name', 'Layer Trainable'])"
   ]
  },
  {
   "cell_type": "code",
   "execution_count": 20,
   "metadata": {},
   "outputs": [
    {
     "name": "stdout",
     "output_type": "stream",
     "text": [
      "WARNING:tensorflow:From C:\\Users\\Light\\anaconda3\\envs\\dogs-vs-cats\\lib\\site-packages\\keras\\backend\\tensorflow_backend.py:422: The name tf.global_variables is deprecated. Please use tf.compat.v1.global_variables instead.\n",
      "\n",
      "(1, 2, 2, 512)\n"
     ]
    },
    {
     "data": {
      "text/plain": [
       "<matplotlib.image.AxesImage at 0x21e2c04ae10>"
      ]
     },
     "execution_count": 20,
     "metadata": {},
     "output_type": "execute_result"
    },
    {
     "data": {
      "image/png": "[encoded data removed]",
      "text/plain": [
       "<Figure size 432x288 with 1 Axes>"
      ]
     },
     "metadata": {
      "needs_background": "light"
     },
     "output_type": "display_data"
    }
   ],
   "source": [
    "bottleneck_feature_example = vgg.predict(train_imgs_scaled[0:1])\n",
    "print(bottleneck_feature_example.shape)\n",
    "plt.imshow(bottleneck_feature_example[0][:,:,0])"
   ]
  },
  {
   "cell_type": "code",
   "execution_count": 21,
   "metadata": {},
   "outputs": [
    {
     "name": "stdout",
     "output_type": "stream",
     "text": [
      "Train Bottleneck Features: (9000, 2048) \tValidation Bottleneck Features: (4500, 2048)\n"
     ]
    }
   ],
   "source": [
    "# getting the output format of VGG16 to make it sync with our output layer\n",
    "\n",
    "def get_bottleneck_features(model, input_imgs):\n",
    "    features = model.predict(input_imgs, verbose=0)\n",
    "    return features\n",
    "    \n",
    "train_features_vgg = get_bottleneck_features(vgg_model, train_imgs_scaled)\n",
    "validation_features_vgg = get_bottleneck_features(vgg_model, validation_imgs_scaled)\n",
    "\n",
    "print('Train Bottleneck Features:', train_features_vgg.shape, \n",
    "      '\\tValidation Bottleneck Features:', validation_features_vgg.shape)"
   ]
  },
  {
   "cell_type": "code",
   "execution_count": 29,
   "metadata": {},
   "outputs": [
    {
     "name": "stdout",
     "output_type": "stream",
     "text": [
      "Model: \"sequential_7\"\n",
      "_________________________________________________________________\n",
      "Layer (type)                 Output Shape              Param #   \n",
      "=================================================================\n",
      "conv3d_6 (Conv3D)            (None, 82, 82, 82, 32)    2624      \n",
      "_________________________________________________________________\n",
      "max_pooling3d_3 (MaxPooling3 (None, 41, 41, 41, 32)    0         \n",
      "_________________________________________________________________\n",
      "batch_normalization_3 (Batch (None, 41, 41, 41, 32)    128       \n",
      "_________________________________________________________________\n",
      "dropout_3 (Dropout)          (None, 41, 41, 41, 32)    0         \n",
      "_________________________________________________________________\n",
      "conv3d_7 (Conv3D)            (None, 39, 39, 39, 64)    55360     \n",
      "_________________________________________________________________\n",
      "max_pooling3d_4 (MaxPooling3 (None, 19, 19, 19, 64)    0         \n",
      "_________________________________________________________________\n",
      "batch_normalization_4 (Batch (None, 19, 19, 19, 64)    256       \n",
      "_________________________________________________________________\n",
      "dropout_4 (Dropout)          (None, 19, 19, 19, 64)    0         \n",
      "_________________________________________________________________\n",
      "flatten_3 (Flatten)          (None, 438976)            0         \n",
      "_________________________________________________________________\n",
      "dense_4 (Dense)              (None, 256)               112378112 \n",
      "_________________________________________________________________\n",
      "dense_5 (Dense)              (None, 256)               65792     \n",
      "_________________________________________________________________\n",
      "dense_6 (Dense)              (None, 9)                 2313      \n",
      "=================================================================\n",
      "Total params: 112,504,585\n",
      "Trainable params: 112,504,393\n",
      "Non-trainable params: 192\n",
      "_________________________________________________________________\n"
     ]
    }
   ],
   "source": [
    "# designing our output layer\n",
    "# Create the model\n",
    "model = Sequential()\n",
    "# model.add(vgg_model)\n",
    "# model.add(InputLayer(input_shape=(input_shape,)))\n",
    "# model.add(Dense(512, activation='relu', input_dim=input_shape))\n",
    "model.add(Conv3D(32, kernel_size=(3, 3, 3), activation='relu', kernel_initializer='he_uniform', input_shape=input_shape))\n",
    "model.add(MaxPooling3D(pool_size=(2, 2, 2)))\n",
    "model.add(BatchNormalization(center=True, scale=True))\n",
    "model.add(Dropout(0.5))\n",
    "model.add(Conv3D(64, kernel_size=(3, 3, 3), activation='relu', kernel_initializer='he_uniform'))\n",
    "model.add(MaxPooling3D(pool_size=(2, 2, 2)))\n",
    "model.add(BatchNormalization(center=True, scale=True))\n",
    "model.add(Dropout(0.5))\n",
    "model.add(Flatten())\n",
    "model.add(Dense(256, activation='relu', kernel_initializer='he_uniform'))\n",
    "model.add(Dense(256, activation='relu', kernel_initializer='he_uniform'))\n",
    "model.add(Dense(9, activation='softmax'))\n",
    "\n",
    "# Compile the model\n",
    "model.compile(loss='categorical_crossentropy',\n",
    "              optimizer=keras.optimizers.Adam(lr=0.001),\n",
    "              metrics=['accuracy'])\n",
    "model.summary()\n",
    "# # Fit data to model\n",
    "# history = model.fit(X_train, targets_train,\n",
    "#             batch_size=128,\n",
    "#             epochs=40,\n",
    "#             verbose=1,\n",
    "#             validation_split=0.3)\n",
    "\n",
    "\n",
    "\n",
    "# input_shape = vgg_model.output_shape[1]\n",
    "\n",
    "# model = Sequential()\n",
    "# model.add(InputLayer(input_shape=(input_shape,)))\n",
    "# model.add(Dense(512, activation='relu', input_dim=input_shape))\n",
    "# model.add(Dropout(0.3))\n",
    "# model.add(Dense(512, activation='relu'))\n",
    "# model.add(Dropout(0.3))\n",
    "# model.add(Dense(9, activation='softmax'))\n",
    "\n",
    "# model.compile(loss='categorical_crossentropy',\n",
    "#               optimizer=optimizers.RMSprop(lr=1e-4),\n",
    "#               metrics=['accuracy'])\n",
    "\n",
    "# model.summary()"
   ]
  },
  {
   "cell_type": "code",
   "execution_count": 30,
   "metadata": {},
   "outputs": [
    {
     "ename": "ValueError",
     "evalue": "Error when checking input: expected conv3d_6_input to have 5 dimensions, but got array with shape (9000, 2048)",
     "output_type": "error",
     "traceback": [
      "\u001b[1;31m---------------------------------------------------------------------------\u001b[0m",
      "\u001b[1;31mValueError\u001b[0m                                Traceback (most recent call last)",
      "\u001b[1;32m<ipython-input-30-c8afa55c9e4f>\u001b[0m in \u001b[0;36m<module>\u001b[1;34m\u001b[0m\n\u001b[0;32m      4\u001b[0m                     \u001b[0mbatch_size\u001b[0m\u001b[1;33m=\u001b[0m\u001b[0mbatch_size\u001b[0m\u001b[1;33m,\u001b[0m\u001b[1;33m\u001b[0m\u001b[1;33m\u001b[0m\u001b[0m\n\u001b[0;32m      5\u001b[0m                     \u001b[0mepochs\u001b[0m\u001b[1;33m=\u001b[0m\u001b[0mepochs\u001b[0m\u001b[1;33m,\u001b[0m\u001b[1;33m\u001b[0m\u001b[1;33m\u001b[0m\u001b[0m\n\u001b[1;32m----> 6\u001b[1;33m                     verbose=1)\n\u001b[0m",
      "\u001b[1;32m~\\anaconda3\\envs\\dogs-vs-cats\\lib\\site-packages\\keras\\engine\\training.py\u001b[0m in \u001b[0;36mfit\u001b[1;34m(self, x, y, batch_size, epochs, verbose, callbacks, validation_split, validation_data, shuffle, class_weight, sample_weight, initial_epoch, steps_per_epoch, validation_steps, validation_freq, max_queue_size, workers, use_multiprocessing, **kwargs)\u001b[0m\n\u001b[0;32m   1152\u001b[0m             \u001b[0msample_weight\u001b[0m\u001b[1;33m=\u001b[0m\u001b[0msample_weight\u001b[0m\u001b[1;33m,\u001b[0m\u001b[1;33m\u001b[0m\u001b[1;33m\u001b[0m\u001b[0m\n\u001b[0;32m   1153\u001b[0m             \u001b[0mclass_weight\u001b[0m\u001b[1;33m=\u001b[0m\u001b[0mclass_weight\u001b[0m\u001b[1;33m,\u001b[0m\u001b[1;33m\u001b[0m\u001b[1;33m\u001b[0m\u001b[0m\n\u001b[1;32m-> 1154\u001b[1;33m             batch_size=batch_size)\n\u001b[0m\u001b[0;32m   1155\u001b[0m \u001b[1;33m\u001b[0m\u001b[0m\n\u001b[0;32m   1156\u001b[0m         \u001b[1;31m# Prepare validation data.\u001b[0m\u001b[1;33m\u001b[0m\u001b[1;33m\u001b[0m\u001b[1;33m\u001b[0m\u001b[0m\n",
      "\u001b[1;32m~\\anaconda3\\envs\\dogs-vs-cats\\lib\\site-packages\\keras\\engine\\training.py\u001b[0m in \u001b[0;36m_standardize_user_data\u001b[1;34m(self, x, y, sample_weight, class_weight, check_array_lengths, batch_size)\u001b[0m\n\u001b[0;32m    577\u001b[0m             \u001b[0mfeed_input_shapes\u001b[0m\u001b[1;33m,\u001b[0m\u001b[1;33m\u001b[0m\u001b[1;33m\u001b[0m\u001b[0m\n\u001b[0;32m    578\u001b[0m             \u001b[0mcheck_batch_axis\u001b[0m\u001b[1;33m=\u001b[0m\u001b[1;32mFalse\u001b[0m\u001b[1;33m,\u001b[0m  \u001b[1;31m# Don't enforce the batch size.\u001b[0m\u001b[1;33m\u001b[0m\u001b[1;33m\u001b[0m\u001b[0m\n\u001b[1;32m--> 579\u001b[1;33m             exception_prefix='input')\n\u001b[0m\u001b[0;32m    580\u001b[0m \u001b[1;33m\u001b[0m\u001b[0m\n\u001b[0;32m    581\u001b[0m         \u001b[1;32mif\u001b[0m \u001b[0my\u001b[0m \u001b[1;32mis\u001b[0m \u001b[1;32mnot\u001b[0m \u001b[1;32mNone\u001b[0m\u001b[1;33m:\u001b[0m\u001b[1;33m\u001b[0m\u001b[1;33m\u001b[0m\u001b[0m\n",
      "\u001b[1;32m~\\anaconda3\\envs\\dogs-vs-cats\\lib\\site-packages\\keras\\engine\\training_utils.py\u001b[0m in \u001b[0;36mstandardize_input_data\u001b[1;34m(data, names, shapes, check_batch_axis, exception_prefix)\u001b[0m\n\u001b[0;32m    133\u001b[0m                         \u001b[1;34m': expected '\u001b[0m \u001b[1;33m+\u001b[0m \u001b[0mnames\u001b[0m\u001b[1;33m[\u001b[0m\u001b[0mi\u001b[0m\u001b[1;33m]\u001b[0m \u001b[1;33m+\u001b[0m \u001b[1;34m' to have '\u001b[0m \u001b[1;33m+\u001b[0m\u001b[1;33m\u001b[0m\u001b[1;33m\u001b[0m\u001b[0m\n\u001b[0;32m    134\u001b[0m                         \u001b[0mstr\u001b[0m\u001b[1;33m(\u001b[0m\u001b[0mlen\u001b[0m\u001b[1;33m(\u001b[0m\u001b[0mshape\u001b[0m\u001b[1;33m)\u001b[0m\u001b[1;33m)\u001b[0m \u001b[1;33m+\u001b[0m \u001b[1;34m' dimensions, but got array '\u001b[0m\u001b[1;33m\u001b[0m\u001b[1;33m\u001b[0m\u001b[0m\n\u001b[1;32m--> 135\u001b[1;33m                         'with shape ' + str(data_shape))\n\u001b[0m\u001b[0;32m    136\u001b[0m                 \u001b[1;32mif\u001b[0m \u001b[1;32mnot\u001b[0m \u001b[0mcheck_batch_axis\u001b[0m\u001b[1;33m:\u001b[0m\u001b[1;33m\u001b[0m\u001b[1;33m\u001b[0m\u001b[0m\n\u001b[0;32m    137\u001b[0m                     \u001b[0mdata_shape\u001b[0m \u001b[1;33m=\u001b[0m \u001b[0mdata_shape\u001b[0m\u001b[1;33m[\u001b[0m\u001b[1;36m1\u001b[0m\u001b[1;33m:\u001b[0m\u001b[1;33m]\u001b[0m\u001b[1;33m\u001b[0m\u001b[1;33m\u001b[0m\u001b[0m\n",
      "\u001b[1;31mValueError\u001b[0m: Error when checking input: expected conv3d_6_input to have 5 dimensions, but got array with shape (9000, 2048)"
     ]
    }
   ],
   "source": [
    "# running the model\n",
    "history = model.fit(x=train_features_vgg, y=train_label_enc,\n",
    "                    validation_data=(validation_features_vgg, validation_label_enc),\n",
    "                    batch_size=batch_size,\n",
    "                    epochs=epochs,\n",
    "                    verbose=1)"
   ]
  },
  {
   "cell_type": "code",
   "execution_count": null,
   "metadata": {},
   "outputs": [],
   "source": []
  }
 ],
 "metadata": {
  "kernelspec": {
   "display_name": "dogs-vs-cats",
   "language": "python",
   "name": "dogs-vs-cats"
  },
  "language_info": {
   "codemirror_mode": {
    "name": "ipython",
    "version": 3
   },
   "file_extension": ".py",
   "mimetype": "text/x-python",
   "name": "python",
   "nbconvert_exporter": "python",
   "pygments_lexer": "ipython3",
   "version": "3.7.1"
  }
 },
 "nbformat": 4,
 "nbformat_minor": 4
}
