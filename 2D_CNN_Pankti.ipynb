{
 "cells": [
  {
   "cell_type": "code",
   "execution_count": 1,
   "metadata": {},
   "outputs": [
    {
     "name": "stderr",
     "output_type": "stream",
     "text": [
      "Using TensorFlow backend.\n",
      "C:\\Users\\Light\\anaconda3\\envs\\dogs-vs-cats\\lib\\site-packages\\tensorflow\\python\\framework\\dtypes.py:516: FutureWarning: Passing (type, 1) or '1type' as a synonym of type is deprecated; in a future version of numpy, it will be understood as (type, (1,)) / '(1,)type'.\n",
      "  _np_qint8 = np.dtype([(\"qint8\", np.int8, 1)])\n",
      "C:\\Users\\Light\\anaconda3\\envs\\dogs-vs-cats\\lib\\site-packages\\tensorflow\\python\\framework\\dtypes.py:517: FutureWarning: Passing (type, 1) or '1type' as a synonym of type is deprecated; in a future version of numpy, it will be understood as (type, (1,)) / '(1,)type'.\n",
      "  _np_quint8 = np.dtype([(\"quint8\", np.uint8, 1)])\n",
      "C:\\Users\\Light\\anaconda3\\envs\\dogs-vs-cats\\lib\\site-packages\\tensorflow\\python\\framework\\dtypes.py:518: FutureWarning: Passing (type, 1) or '1type' as a synonym of type is deprecated; in a future version of numpy, it will be understood as (type, (1,)) / '(1,)type'.\n",
      "  _np_qint16 = np.dtype([(\"qint16\", np.int16, 1)])\n",
      "C:\\Users\\Light\\anaconda3\\envs\\dogs-vs-cats\\lib\\site-packages\\tensorflow\\python\\framework\\dtypes.py:519: FutureWarning: Passing (type, 1) or '1type' as a synonym of type is deprecated; in a future version of numpy, it will be understood as (type, (1,)) / '(1,)type'.\n",
      "  _np_quint16 = np.dtype([(\"quint16\", np.uint16, 1)])\n",
      "C:\\Users\\Light\\anaconda3\\envs\\dogs-vs-cats\\lib\\site-packages\\tensorflow\\python\\framework\\dtypes.py:520: FutureWarning: Passing (type, 1) or '1type' as a synonym of type is deprecated; in a future version of numpy, it will be understood as (type, (1,)) / '(1,)type'.\n",
      "  _np_qint32 = np.dtype([(\"qint32\", np.int32, 1)])\n",
      "C:\\Users\\Light\\anaconda3\\envs\\dogs-vs-cats\\lib\\site-packages\\tensorflow\\python\\framework\\dtypes.py:525: FutureWarning: Passing (type, 1) or '1type' as a synonym of type is deprecated; in a future version of numpy, it will be understood as (type, (1,)) / '(1,)type'.\n",
      "  np_resource = np.dtype([(\"resource\", np.ubyte, 1)])\n",
      "C:\\Users\\Light\\anaconda3\\envs\\dogs-vs-cats\\lib\\site-packages\\tensorboard\\compat\\tensorflow_stub\\dtypes.py:541: FutureWarning: Passing (type, 1) or '1type' as a synonym of type is deprecated; in a future version of numpy, it will be understood as (type, (1,)) / '(1,)type'.\n",
      "  _np_qint8 = np.dtype([(\"qint8\", np.int8, 1)])\n",
      "C:\\Users\\Light\\anaconda3\\envs\\dogs-vs-cats\\lib\\site-packages\\tensorboard\\compat\\tensorflow_stub\\dtypes.py:542: FutureWarning: Passing (type, 1) or '1type' as a synonym of type is deprecated; in a future version of numpy, it will be understood as (type, (1,)) / '(1,)type'.\n",
      "  _np_quint8 = np.dtype([(\"quint8\", np.uint8, 1)])\n",
      "C:\\Users\\Light\\anaconda3\\envs\\dogs-vs-cats\\lib\\site-packages\\tensorboard\\compat\\tensorflow_stub\\dtypes.py:543: FutureWarning: Passing (type, 1) or '1type' as a synonym of type is deprecated; in a future version of numpy, it will be understood as (type, (1,)) / '(1,)type'.\n",
      "  _np_qint16 = np.dtype([(\"qint16\", np.int16, 1)])\n",
      "C:\\Users\\Light\\anaconda3\\envs\\dogs-vs-cats\\lib\\site-packages\\tensorboard\\compat\\tensorflow_stub\\dtypes.py:544: FutureWarning: Passing (type, 1) or '1type' as a synonym of type is deprecated; in a future version of numpy, it will be understood as (type, (1,)) / '(1,)type'.\n",
      "  _np_quint16 = np.dtype([(\"quint16\", np.uint16, 1)])\n",
      "C:\\Users\\Light\\anaconda3\\envs\\dogs-vs-cats\\lib\\site-packages\\tensorboard\\compat\\tensorflow_stub\\dtypes.py:545: FutureWarning: Passing (type, 1) or '1type' as a synonym of type is deprecated; in a future version of numpy, it will be understood as (type, (1,)) / '(1,)type'.\n",
      "  _np_qint32 = np.dtype([(\"qint32\", np.int32, 1)])\n",
      "C:\\Users\\Light\\anaconda3\\envs\\dogs-vs-cats\\lib\\site-packages\\tensorboard\\compat\\tensorflow_stub\\dtypes.py:550: FutureWarning: Passing (type, 1) or '1type' as a synonym of type is deprecated; in a future version of numpy, it will be understood as (type, (1,)) / '(1,)type'.\n",
      "  np_resource = np.dtype([(\"resource\", np.ubyte, 1)])\n"
     ]
    }
   ],
   "source": [
    "import os\n",
    "import glob\n",
    "import cv2\n",
    "from keras.preprocessing.image import ImageDataGenerator, load_img, img_to_array, array_to_img\n",
    "import numpy as np\n",
    "# encoding labels catogories\n",
    "from sklearn.preprocessing import LabelEncoder\n",
    "# multi class encoding\n",
    "from sklearn.preprocessing import OneHotEncoder"
   ]
  },
  {
   "cell_type": "code",
   "execution_count": 4,
   "metadata": {},
   "outputs": [],
   "source": [
    "# train and validation directories\n",
    "train_dir = 'D:\\\\something-something-project\\\\train-images\\\\'\n",
    "validation_dir = 'D:\\\\something-something-project\\\\validation-images\\\\'"
   ]
  },
  {
   "cell_type": "code",
   "execution_count": 5,
   "metadata": {},
   "outputs": [
    {
     "name": "stdout",
     "output_type": "stream",
     "text": [
      "['Dropping_something', 'Holding_something', 'Moving_something', 'Picking_something', 'Poking_something', 'Pouring_something', 'Putting_something', 'Showing_something', 'Tearing_something']\n",
      "['Dropping_something', 'Holding_something', 'Moving_something', 'Picking_something', 'Poking_something', 'Pouring_something', 'Putting_something', 'Showing_something', 'Tearing_something']\n"
     ]
    }
   ],
   "source": [
    "# listing images directory for train and validation\n",
    "train_files = os.listdir(train_dir)\n",
    "print (train_files)\n",
    "\n",
    "validation_files = os.listdir(validation_dir)\n",
    "print (validation_files)"
   ]
  },
  {
   "cell_type": "code",
   "execution_count": 6,
   "metadata": {},
   "outputs": [
    {
     "name": "stdout",
     "output_type": "stream",
     "text": [
      "['D:\\\\something-something-project\\\\train-images\\\\Dropping_something', 'D:\\\\something-something-project\\\\train-images\\\\Holding_something', 'D:\\\\something-something-project\\\\train-images\\\\Moving_something', 'D:\\\\something-something-project\\\\train-images\\\\Picking_something', 'D:\\\\something-something-project\\\\train-images\\\\Poking_something', 'D:\\\\something-something-project\\\\train-images\\\\Pouring_something', 'D:\\\\something-something-project\\\\train-images\\\\Putting_something', 'D:\\\\something-something-project\\\\train-images\\\\Showing_something', 'D:\\\\something-something-project\\\\train-images\\\\Tearing_something']\n",
      "['D:\\\\something-something-project\\\\validation-images\\\\Dropping_something', 'D:\\\\something-something-project\\\\validation-images\\\\Holding_something', 'D:\\\\something-something-project\\\\validation-images\\\\Moving_something', 'D:\\\\something-something-project\\\\validation-images\\\\Picking_something', 'D:\\\\something-something-project\\\\validation-images\\\\Poking_something', 'D:\\\\something-something-project\\\\validation-images\\\\Pouring_something', 'D:\\\\something-something-project\\\\validation-images\\\\Putting_something', 'D:\\\\something-something-project\\\\validation-images\\\\Showing_something', 'D:\\\\something-something-project\\\\validation-images\\\\Tearing_something']\n"
     ]
    }
   ],
   "source": [
    "# generating the full system path\n",
    "train_files_dir = []\n",
    "validation_files_dir = []\n",
    "\n",
    "for f in train_files:\n",
    "    if os.path.join(train_dir, f):\n",
    "        train_files_dir.append(os.path.join(train_dir, f))\n",
    "        \n",
    "for f in validation_files:\n",
    "    if os.path.join(validation_dir, f):\n",
    "        validation_files_dir.append(os.path.join(validation_dir, f))\n",
    "        \n",
    "print (train_files_dir)\n",
    "print (validation_files_dir)"
   ]
  },
  {
   "cell_type": "code",
   "execution_count": 7,
   "metadata": {},
   "outputs": [
    {
     "name": "stdout",
     "output_type": "stream",
     "text": [
      "Training Data\n",
      "D:\\something-something-project\\train-images\\Dropping_something 15941\n",
      "D:\\something-something-project\\train-images\\Holding_something 25433\n",
      "D:\\something-something-project\\train-images\\Moving_something 56940\n",
      "D:\\something-something-project\\train-images\\Picking_something 3841\n",
      "D:\\something-something-project\\train-images\\Poking_something 14179\n",
      "D:\\something-something-project\\train-images\\Pouring_something 7280\n",
      "D:\\something-something-project\\train-images\\Putting_something 64208\n",
      "D:\\something-something-project\\train-images\\Showing_something 15682\n",
      "D:\\something-something-project\\train-images\\Tearing_something 11816\n"
     ]
    }
   ],
   "source": [
    "# printing number of images in each directories\n",
    "print (\"Training Data\")\n",
    "for dt in train_files_dir:\n",
    "    print (dt, len(os.listdir(dt)))"
   ]
  },
  {
   "cell_type": "code",
   "execution_count": 8,
   "metadata": {},
   "outputs": [
    {
     "name": "stdout",
     "output_type": "stream",
     "text": [
      "Validation Data\n",
      "D:\\something-something-project\\validation-images\\Dropping_something 3108\n",
      "D:\\something-something-project\\validation-images\\Holding_something 4148\n",
      "D:\\something-something-project\\validation-images\\Moving_something 7463\n",
      "D:\\something-something-project\\validation-images\\Picking_something 774\n",
      "D:\\something-something-project\\validation-images\\Poking_something 1618\n",
      "D:\\something-something-project\\validation-images\\Pouring_something 2023\n",
      "D:\\something-something-project\\validation-images\\Putting_something 7867\n",
      "D:\\something-something-project\\validation-images\\Showing_something 2627\n",
      "D:\\something-something-project\\validation-images\\Tearing_something 3851\n"
     ]
    }
   ],
   "source": [
    "# printing number of images in each directories\n",
    "print (\"Validation Data\")\n",
    "for dv in validation_files_dir:\n",
    "    print (dv, len(os.listdir(dv)))"
   ]
  },
  {
   "cell_type": "code",
   "execution_count": 10,
   "metadata": {},
   "outputs": [
    {
     "name": "stdout",
     "output_type": "stream",
     "text": [
      "Directory:  D:\\something-something-project\\train-images\\Dropping_something\n",
      "Directory:  D:\\something-something-project\\train-images\\Holding_something\n",
      "Directory:  D:\\something-something-project\\train-images\\Moving_something\n",
      "Directory:  D:\\something-something-project\\train-images\\Picking_something\n",
      "Directory:  D:\\something-something-project\\train-images\\Poking_something\n",
      "Directory:  D:\\something-something-project\\train-images\\Pouring_something\n",
      "Directory:  D:\\something-something-project\\train-images\\Putting_something\n",
      "Directory:  D:\\something-something-project\\train-images\\Showing_something\n",
      "Directory:  D:\\something-something-project\\train-images\\Tearing_something\n"
     ]
    }
   ],
   "source": [
    "# loading training data\n",
    "train_data = []\n",
    "train_labels = []\n",
    "for d in train_files_dir:\n",
    "    print ('Directory: ', d)\n",
    "    # commenting out so that one can read all the images, I have less RAM\n",
    "    count = 0\n",
    "    files = glob.glob(d + \"/*.jpg\")\n",
    "    imgs = []\n",
    "    for img in files:\n",
    "        # print (img)\n",
    "        if count == 1000:\n",
    "            break\n",
    "        if not os.path.isfile(img):\n",
    "            continue\n",
    "        imgs.append(cv2.imread(img))\n",
    "        train_labels.append(d.split(\"D:\\\\something-something-project\\\\train-images\\\\\")[1])\n",
    "        count += 1\n",
    "    train_data = train_data + imgs"
   ]
  },
  {
   "cell_type": "code",
   "execution_count": 12,
   "metadata": {},
   "outputs": [
    {
     "name": "stdout",
     "output_type": "stream",
     "text": [
      "Directory:  D:\\something-something-project\\validation-images\\Dropping_something\n",
      "Directory:  D:\\something-something-project\\validation-images\\Holding_something\n",
      "Directory:  D:\\something-something-project\\validation-images\\Moving_something\n",
      "Directory:  D:\\something-something-project\\validation-images\\Picking_something\n",
      "Directory:  D:\\something-something-project\\validation-images\\Poking_something\n",
      "Directory:  D:\\something-something-project\\validation-images\\Pouring_something\n",
      "Directory:  D:\\something-something-project\\validation-images\\Putting_something\n",
      "Directory:  D:\\something-something-project\\validation-images\\Showing_something\n",
      "Directory:  D:\\something-something-project\\validation-images\\Tearing_something\n"
     ]
    }
   ],
   "source": [
    "# loading validation data\n",
    "validation_data = []\n",
    "validation_labels = []\n",
    "for d in validation_files_dir:\n",
    "    print ('Directory: ', d)\n",
    "    count = 0\n",
    "    files = glob.glob(d + \"/*.jpg\")\n",
    "    imgs = []\n",
    "    for img in files:\n",
    "        if count == 1000:\n",
    "            break\n",
    "        if not os.path.isfile(img):\n",
    "            continue\n",
    "        imgs.append(cv2.imread(img))\n",
    "        validation_labels.append(d.split(\"D:\\\\something-something-project\\\\validation-images\\\\\")[1])\n",
    "        count += 1\n",
    "    validation_data = validation_data + imgs"
   ]
  },
  {
   "cell_type": "code",
   "execution_count": 13,
   "metadata": {},
   "outputs": [
    {
     "name": "stdout",
     "output_type": "stream",
     "text": [
      "Train Data:  9000 \tTrain Labels:  9000\n",
      "Validation Data:  8774 \tValidation Labels:  8774\n"
     ]
    }
   ],
   "source": [
    "print (\"Train Data: \", len(train_data), \"\\tTrain Labels: \", len(train_labels))\n",
    "print (\"Validation Data: \", len(validation_data), \"\\tValidation Labels: \", len(validation_labels))"
   ]
  },
  {
   "cell_type": "code",
   "execution_count": 14,
   "metadata": {},
   "outputs": [],
   "source": [
    "\n",
    "# Training Data (there are some corrupted files, so use the next column)\n",
    "IMG_DIM = (124, 124)\n",
    "\n",
    "train_imgs = [img_to_array(cv2.resize(img, IMG_DIM)) for img in train_data]\n",
    "train_imgs = np.array(train_imgs)\n",
    "\n",
    "validation_imgs = [img_to_array(cv2.resize(img, IMG_DIM)) for img in validation_data]\n",
    "validation_imgs = np.array(validation_imgs)"
   ]
  },
  {
   "cell_type": "code",
   "execution_count": 15,
   "metadata": {},
   "outputs": [
    {
     "name": "stdout",
     "output_type": "stream",
     "text": [
      "Train dataset shape: (9000, 124, 124, 3) \tValidation dataset shape: (8774, 124, 124, 3)\n"
     ]
    }
   ],
   "source": [
    "print('Train dataset shape:', train_imgs.shape, '\\tValidation dataset shape:', validation_imgs.shape)"
   ]
  },
  {
   "cell_type": "code",
   "execution_count": 16,
   "metadata": {},
   "outputs": [],
   "source": [
    "batch_size = 30\n",
    "num_classes = 9\n",
    "epochs = 30\n",
    "input_shape = ( 124, 124, 3)\n",
    "\n",
    "# one hot encoding for training and validation\n",
    "label_encoder = LabelEncoder()\n",
    "train_labels_integer_encoded = label_encoder.fit_transform(train_labels)\n",
    "validation_labels_integer_encoded = label_encoder.fit_transform(validation_labels)\n",
    "\n",
    "# print(train_labels_integer_encoded)\n",
    "\n",
    "onehot_encoder = OneHotEncoder(sparse=False)\n",
    "train_labels_integer_encoded = train_labels_integer_encoded.reshape(len(train_labels_integer_encoded), 1)\n",
    "train_label_enc = onehot_encoder.fit_transform(train_labels_integer_encoded)\n",
    "\n",
    "validation_labels_integer_encoded = validation_labels_integer_encoded.reshape(len(validation_labels_integer_encoded), 1)\n",
    "validation_label_enc = onehot_encoder.fit_transform(validation_labels_integer_encoded)"
   ]
  },
  {
   "cell_type": "code",
   "execution_count": 17,
   "metadata": {},
   "outputs": [],
   "source": [
    "from keras.models import Sequential\n",
    "\n",
    "from keras.layers import Dense, Conv2D, Flatten\n",
    "\n",
    "model = Sequential()\n",
    "\n",
    "model.add(Conv2D(64, kernel_size=3, activation='relu', input_shape=(124,124,3)))\n",
    "\n",
    "model.add(Conv2D(32, kernel_size=3, activation='relu'))\n",
    "\n",
    "model.add(Flatten())\n",
    "\n",
    "model.add(Dense(9, activation='softmax'))"
   ]
  },
  {
   "cell_type": "code",
   "execution_count": 18,
   "metadata": {},
   "outputs": [],
   "source": [
    "model.compile(optimizer='adam', loss='categorical_crossentropy', metrics=['accuracy'])"
   ]
  },
  {
   "cell_type": "code",
   "execution_count": 19,
   "metadata": {},
   "outputs": [
    {
     "name": "stdout",
     "output_type": "stream",
     "text": [
      "WARNING:tensorflow:From C:\\Users\\Light\\anaconda3\\envs\\dogs-vs-cats\\lib\\site-packages\\keras\\backend\\tensorflow_backend.py:422: The name tf.global_variables is deprecated. Please use tf.compat.v1.global_variables instead.\n",
      "\n",
      "Train on 9000 samples, validate on 8774 samples\n",
      "Epoch 1/30\n",
      "9000/9000 [==============================] - 19s 2ms/step - loss: 43.3573 - accuracy: 0.1342 - val_loss: 2.2003 - val_accuracy: 0.1169\n",
      "Epoch 2/30\n",
      "9000/9000 [==============================] - 15s 2ms/step - loss: 1.9042 - accuracy: 0.2940 - val_loss: 2.6052 - val_accuracy: 0.1150\n",
      "Epoch 3/30\n",
      "9000/9000 [==============================] - 15s 2ms/step - loss: 1.4883 - accuracy: 0.4708 - val_loss: 3.1960 - val_accuracy: 0.1119\n",
      "Epoch 4/30\n",
      "9000/9000 [==============================] - 15s 2ms/step - loss: 1.1069 - accuracy: 0.6127 - val_loss: 4.8879 - val_accuracy: 0.1163\n",
      "Epoch 5/30\n",
      "9000/9000 [==============================] - 15s 2ms/step - loss: 0.8173 - accuracy: 0.7280 - val_loss: 7.0924 - val_accuracy: 0.1225\n",
      "Epoch 6/30\n",
      "9000/9000 [==============================] - 15s 2ms/step - loss: 0.5870 - accuracy: 0.8044 - val_loss: 7.3949 - val_accuracy: 0.1168\n",
      "Epoch 7/30\n",
      "9000/9000 [==============================] - 15s 2ms/step - loss: 0.5162 - accuracy: 0.8387 - val_loss: 10.9417 - val_accuracy: 0.1193\n",
      "Epoch 8/30\n",
      "9000/9000 [==============================] - 15s 2ms/step - loss: 0.4090 - accuracy: 0.8754 - val_loss: 10.9340 - val_accuracy: 0.1201\n",
      "Epoch 9/30\n",
      "9000/9000 [==============================] - 15s 2ms/step - loss: 0.3239 - accuracy: 0.9000 - val_loss: 15.4304 - val_accuracy: 0.1224\n",
      "Epoch 10/30\n",
      "9000/9000 [==============================] - 15s 2ms/step - loss: 0.2952 - accuracy: 0.9121 - val_loss: 15.5629 - val_accuracy: 0.1235\n",
      "Epoch 11/30\n",
      "9000/9000 [==============================] - 15s 2ms/step - loss: 0.2667 - accuracy: 0.9187 - val_loss: 16.4535 - val_accuracy: 0.1217\n",
      "Epoch 12/30\n",
      "9000/9000 [==============================] - 15s 2ms/step - loss: 0.2036 - accuracy: 0.9354 - val_loss: 17.9513 - val_accuracy: 0.1245\n",
      "Epoch 13/30\n",
      "9000/9000 [==============================] - 15s 2ms/step - loss: 0.2113 - accuracy: 0.9392 - val_loss: 20.0634 - val_accuracy: 0.1239\n",
      "Epoch 14/30\n",
      "9000/9000 [==============================] - 15s 2ms/step - loss: 0.1941 - accuracy: 0.9440 - val_loss: 23.2235 - val_accuracy: 0.1238\n",
      "Epoch 15/30\n",
      "9000/9000 [==============================] - 16s 2ms/step - loss: 0.1829 - accuracy: 0.9460 - val_loss: 24.3895 - val_accuracy: 0.1253\n",
      "Epoch 16/30\n",
      "9000/9000 [==============================] - 15s 2ms/step - loss: 0.1631 - accuracy: 0.9551 - val_loss: 22.9249 - val_accuracy: 0.1215\n",
      "Epoch 17/30\n",
      "9000/9000 [==============================] - 15s 2ms/step - loss: 0.1901 - accuracy: 0.9513 - val_loss: 20.3879 - val_accuracy: 0.1200\n",
      "Epoch 18/30\n",
      "9000/9000 [==============================] - 16s 2ms/step - loss: 0.1633 - accuracy: 0.9549 - val_loss: 26.6467 - val_accuracy: 0.1216\n",
      "Epoch 19/30\n",
      "9000/9000 [==============================] - 16s 2ms/step - loss: 0.1517 - accuracy: 0.9589 - val_loss: 29.5321 - val_accuracy: 0.1258\n",
      "Epoch 20/30\n",
      "9000/9000 [==============================] - 16s 2ms/step - loss: 0.1336 - accuracy: 0.9619 - val_loss: 25.4361 - val_accuracy: 0.1235\n",
      "Epoch 21/30\n",
      "9000/9000 [==============================] - 16s 2ms/step - loss: 0.1313 - accuracy: 0.9631 - val_loss: 26.6573 - val_accuracy: 0.1270\n",
      "Epoch 22/30\n",
      "9000/9000 [==============================] - 16s 2ms/step - loss: 0.1517 - accuracy: 0.9600 - val_loss: 32.1641 - val_accuracy: 0.1246\n",
      "Epoch 23/30\n",
      "9000/9000 [==============================] - 17s 2ms/step - loss: 0.1278 - accuracy: 0.9653 - val_loss: 28.0413 - val_accuracy: 0.1205\n",
      "Epoch 24/30\n",
      "9000/9000 [==============================] - 16s 2ms/step - loss: 0.1144 - accuracy: 0.9657 - val_loss: 31.5561 - val_accuracy: 0.1254\n",
      "Epoch 25/30\n",
      "9000/9000 [==============================] - 16s 2ms/step - loss: 0.1060 - accuracy: 0.9700 - val_loss: 28.7940 - val_accuracy: 0.1218\n",
      "Epoch 26/30\n",
      "9000/9000 [==============================] - 16s 2ms/step - loss: 0.0830 - accuracy: 0.9754 - val_loss: 34.2276 - val_accuracy: 0.1271\n",
      "Epoch 27/30\n",
      "9000/9000 [==============================] - 16s 2ms/step - loss: 0.1055 - accuracy: 0.9696 - val_loss: 36.9791 - val_accuracy: 0.1286\n",
      "Epoch 28/30\n",
      "9000/9000 [==============================] - 16s 2ms/step - loss: 0.0765 - accuracy: 0.9771 - val_loss: 36.3963 - val_accuracy: 0.1290\n",
      "Epoch 29/30\n",
      "9000/9000 [==============================] - 16s 2ms/step - loss: 0.0688 - accuracy: 0.9786 - val_loss: 38.0413 - val_accuracy: 0.1300\n",
      "Epoch 30/30\n",
      "9000/9000 [==============================] - 16s 2ms/step - loss: 0.0756 - accuracy: 0.9778 - val_loss: 43.2114 - val_accuracy: 0.1284\n"
     ]
    }
   ],
   "source": [
    "history = model.fit(train_imgs, train_label_enc, validation_data=(validation_imgs, validation_label_enc), epochs=30)"
   ]
  },
  {
   "cell_type": "code",
   "execution_count": 21,
   "metadata": {},
   "outputs": [
    {
     "data": {
      "image/png": "[encoded data removed]",
      "text/plain": [
       "<Figure size 864x288 with 2 Axes>"
      ]
     },
     "metadata": {
      "needs_background": "light"
     },
     "output_type": "display_data"
    }
   ],
   "source": [
    "import matplotlib.pyplot as plt\n",
    "# plotting accuracy\n",
    "f, (ax1, ax2) = plt.subplots(1, 2, figsize=(12, 4))\n",
    "t = f.suptitle('VGG16 Performance', fontsize=12)\n",
    "f.subplots_adjust(top=0.85, wspace=0.3)\n",
    "\n",
    "epoch_list = list(range(1,31))\n",
    "ax1.plot(epoch_list, history.history['accuracy'], label='Train Accuracy')\n",
    "ax1.plot(epoch_list, history.history['val_accuracy'], label='Validation Accuracy')\n",
    "ax1.set_xticks(np.arange(0, 31, 5))\n",
    "ax1.set_ylabel('Accuracy Value')\n",
    "ax1.set_xlabel('Epoch')\n",
    "ax1.set_title('Accuracy')\n",
    "l1 = ax1.legend(loc=\"best\")\n",
    "\n",
    "ax2.plot(epoch_list, history.history['loss'], label='Train Loss')\n",
    "ax2.plot(epoch_list, history.history['val_loss'], label='Validation Loss')\n",
    "ax2.set_xticks(np.arange(0, 31, 5))\n",
    "ax2.set_ylabel('Loss Value')\n",
    "ax2.set_xlabel('Epoch')\n",
    "ax2.set_title('Loss')\n",
    "l2 = ax2.legend(loc=\"best\")"
   ]
  }
 ],
 "metadata": {
  "kernelspec": {
   "display_name": "dogs-vs-cats",
   "language": "python",
   "name": "dogs-vs-cats"
  },
  "language_info": {
   "codemirror_mode": {
    "name": "ipython",
    "version": 3
   },
   "file_extension": ".py",
   "mimetype": "text/x-python",
   "name": "python",
   "nbconvert_exporter": "python",
   "pygments_lexer": "ipython3",
   "version": "3.7.1"
  }
 },
 "nbformat": 4,
 "nbformat_minor": 4
}
